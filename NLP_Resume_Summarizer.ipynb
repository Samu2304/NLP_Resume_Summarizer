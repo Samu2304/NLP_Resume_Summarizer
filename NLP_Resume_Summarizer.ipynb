{
  "nbformat": 4,
  "nbformat_minor": 0,
  "metadata": {
    "colab": {
      "provenance": []
    },
    "kernelspec": {
      "name": "python3",
      "display_name": "Python 3"
    },
    "language_info": {
      "name": "python"
    }
  },
  "cells": [
    {
      "cell_type": "code",
      "source": [
        "import pdfplumber\n",
        "import spacy\n",
        "import re\n",
        "\n",
        "nlp = spacy.load(\"en_core_web_sm\")\n",
        "\n",
        "pdf_path = \"/content/Resume_Samyuktha_S_1_ (1).pdf\"\n",
        "\n",
        "def extract_text_from_pdf(pdf_file):\n",
        "    text = \"\"\n",
        "    with pdfplumber.open(pdf_file) as pdf:\n",
        "        for page in pdf.pages:\n",
        "            page_text = page.extract_text()\n",
        "            if page_text:\n",
        "                text += page_text + \"\\n\"\n",
        "    return text\n",
        "\n",
        "resume_text = extract_text_from_pdf(pdf_path)\n",
        "print(\"Extracted Text Sample:\\n\", resume_text[:500])\n",
        "doc = nlp(resume_text)\n",
        "\n",
        "name_candidate = None\n",
        "for ent in doc.ents:\n",
        "    if ent.label_ == \"PERSON\":\n",
        "        name_candidate = ent.text\n",
        "        break\n",
        "\n",
        "email = re.search(r\"[A-Za-z0-9._%+-]+@[A-Za-z0-9.-]+\\.[A-Za-z]{2,}\", resume_text)\n",
        "email = email.group(0) if email else None\n",
        "\n",
        "skills_list = [\n",
        "    \"Python\", \"Java\", \"C++\", \"JavaScript\", \"SQL\", \"React.js\", \"Node.js\",\n",
        "    \"Express.js\", \"MongoDB\", \"TensorFlow\", \"EfficientNet\", \"ResNet\",\n",
        "    \"Random Forest\", \"XGBoost\", \"Docker\", \"Firebase\", \"Figma\"\n",
        "]\n",
        "\n",
        "found_skills = [skill for skill in skills_list if skill.lower() in resume_text.lower()]\n",
        "\n",
        "degree = None\n",
        "institution = None\n",
        "\n",
        "degree_patterns = [\"B\\.Tech\", \"M\\.Tech\", \"Bachelors?\", \"Masters?\", \"Bachelor of\", \"Master of\"]\n",
        "for pattern in degree_patterns:\n",
        "    match = re.search(pattern, resume_text, re.IGNORECASE)\n",
        "    if match:\n",
        "        degree = match.group()\n",
        "        break\n",
        "\n",
        "institution_pattern = r\"(College|University|Institute)[^\\n]+\"\n",
        "inst_match = re.search(institution_pattern, resume_text)\n",
        "if inst_match:\n",
        "    institution = inst_match.group()\n",
        "\n",
        "experience_section = \"\"\n",
        "for line in resume_text.splitlines():\n",
        "    if \"intern\" in line.lower() or \"experience\" in line.lower():\n",
        "        experience_section += line + \"\\n\"\n",
        "\n",
        "structured_resume = {\n",
        "    \"Name\": name_candidate,\n",
        "    \"Email\": email,\n",
        "    \"Skills\": found_skills,\n",
        "    \"Degree\": degree,\n",
        "    \"Institution\": institution,\n",
        "    \"Work_Experience\": experience_section.strip()\n",
        "}\n",
        "\n",
        "import json\n",
        "print(\"\\nExtracted Structured Information:\\n\")\n",
        "print(json.dumps(structured_resume, indent=2))\n"
      ],
      "metadata": {
        "colab": {
          "base_uri": "https://localhost:8080/"
        },
        "id": "S4laetM3Jk3r",
        "outputId": "62a5d3b5-7edb-4378-acdb-bba5c01efa11"
      },
      "execution_count": 4,
      "outputs": [
        {
          "output_type": "stream",
          "name": "stdout",
          "text": [
            "Extracted Text Sample:\n",
            " SAMYUKTHA S\n",
            "AI/ML Engineer | Data Scientist | Full-Stack Developer\n",
            "Email: samyukthasreenivasam2307@gmail.com\n",
            "GitHub: github.com/SamyukthaSreenivasan\n",
            "LinkedIn: linkedin.com/in/samyuktha-sreenivasan-1b30a0257\n",
            "PROFESSIONAL SUMMARY\n",
            "Dedicated and enthusiastic AIML student with strong skills in artificial intelligence, machine\n",
            "learning, and full-stack development. Experienced in solving real-world problems using deep\n",
            "learning, data analytics, and software engineering. Proven track record in national-l\n",
            "\n",
            "Extracted Structured Information:\n",
            "\n",
            "{\n",
            "  \"Name\": \"Java\",\n",
            "  \"Email\": \"samyukthasreenivasam2307@gmail.com\",\n",
            "  \"Skills\": [\n",
            "    \"Python\",\n",
            "    \"Java\",\n",
            "    \"C++\",\n",
            "    \"JavaScript\",\n",
            "    \"SQL\",\n",
            "    \"React.js\",\n",
            "    \"Node.js\",\n",
            "    \"Express.js\",\n",
            "    \"MongoDB\",\n",
            "    \"TensorFlow\",\n",
            "    \"EfficientNet\",\n",
            "    \"ResNet\",\n",
            "    \"Random Forest\",\n",
            "    \"XGBoost\",\n",
            "    \"Docker\",\n",
            "    \"Firebase\",\n",
            "    \"Figma\"\n",
            "  ],\n",
            "  \"Degree\": \"B.Tech\",\n",
            "  \"Institution\": \"College, Chennai\",\n",
            "  \"Work_Experience\": \"learning, and full-stack development. Experienced in solving real-world problems using deep\\nINTERNSHIP EXPERIENCE\\nArtificial Intelligence & Machine Learning Intern,NSIC, Chennai\"\n",
            "}\n"
          ]
        }
      ]
    },
    {
      "cell_type": "code",
      "metadata": {
        "colab": {
          "base_uri": "https://localhost:8080/"
        },
        "id": "e299aff0",
        "outputId": "a215ff1c-3dc0-4f7e-bad1-3a4cdf31148e"
      },
      "source": [
        "!pip install pdfplumber"
      ],
      "execution_count": 3,
      "outputs": [
        {
          "output_type": "stream",
          "name": "stdout",
          "text": [
            "Collecting pdfplumber\n",
            "  Downloading pdfplumber-0.11.7-py3-none-any.whl.metadata (42 kB)\n",
            "\u001b[?25l     \u001b[90m━━━━━━━━━━━━━━━━━━━━━━━━━━━━━━━━━━━━━━━━\u001b[0m \u001b[32m0.0/42.8 kB\u001b[0m \u001b[31m?\u001b[0m eta \u001b[36m-:--:--\u001b[0m\r\u001b[2K     \u001b[90m━━━━━━━━━━━━━━━━━━━━━━━━━━━━━━━━━━━━━━━━\u001b[0m \u001b[32m42.8/42.8 kB\u001b[0m \u001b[31m2.6 MB/s\u001b[0m eta \u001b[36m0:00:00\u001b[0m\n",
            "\u001b[?25hCollecting pdfminer.six==20250506 (from pdfplumber)\n",
            "  Downloading pdfminer_six-20250506-py3-none-any.whl.metadata (4.2 kB)\n",
            "Requirement already satisfied: Pillow>=9.1 in /usr/local/lib/python3.11/dist-packages (from pdfplumber) (11.3.0)\n",
            "Collecting pypdfium2>=4.18.0 (from pdfplumber)\n",
            "  Downloading pypdfium2-4.30.0-py3-none-manylinux_2_17_x86_64.manylinux2014_x86_64.whl.metadata (48 kB)\n",
            "\u001b[2K     \u001b[90m━━━━━━━━━━━━━━━━━━━━━━━━━━━━━━━━━━━━━━━━\u001b[0m \u001b[32m48.5/48.5 kB\u001b[0m \u001b[31m2.6 MB/s\u001b[0m eta \u001b[36m0:00:00\u001b[0m\n",
            "\u001b[?25hRequirement already satisfied: charset-normalizer>=2.0.0 in /usr/local/lib/python3.11/dist-packages (from pdfminer.six==20250506->pdfplumber) (3.4.2)\n",
            "Requirement already satisfied: cryptography>=36.0.0 in /usr/local/lib/python3.11/dist-packages (from pdfminer.six==20250506->pdfplumber) (43.0.3)\n",
            "Requirement already satisfied: cffi>=1.12 in /usr/local/lib/python3.11/dist-packages (from cryptography>=36.0.0->pdfminer.six==20250506->pdfplumber) (1.17.1)\n",
            "Requirement already satisfied: pycparser in /usr/local/lib/python3.11/dist-packages (from cffi>=1.12->cryptography>=36.0.0->pdfminer.six==20250506->pdfplumber) (2.22)\n",
            "Downloading pdfplumber-0.11.7-py3-none-any.whl (60 kB)\n",
            "\u001b[2K   \u001b[90m━━━━━━━━━━━━━━━━━━━━━━━━━━━━━━━━━━━━━━━━\u001b[0m \u001b[32m60.0/60.0 kB\u001b[0m \u001b[31m4.1 MB/s\u001b[0m eta \u001b[36m0:00:00\u001b[0m\n",
            "\u001b[?25hDownloading pdfminer_six-20250506-py3-none-any.whl (5.6 MB)\n",
            "\u001b[2K   \u001b[90m━━━━━━━━━━━━━━━━━━━━━━━━━━━━━━━━━━━━━━━━\u001b[0m \u001b[32m5.6/5.6 MB\u001b[0m \u001b[31m76.0 MB/s\u001b[0m eta \u001b[36m0:00:00\u001b[0m\n",
            "\u001b[?25hDownloading pypdfium2-4.30.0-py3-none-manylinux_2_17_x86_64.manylinux2014_x86_64.whl (2.8 MB)\n",
            "\u001b[2K   \u001b[90m━━━━━━━━━━━━━━━━━━━━━━━━━━━━━━━━━━━━━━━━\u001b[0m \u001b[32m2.8/2.8 MB\u001b[0m \u001b[31m75.7 MB/s\u001b[0m eta \u001b[36m0:00:00\u001b[0m\n",
            "\u001b[?25hInstalling collected packages: pypdfium2, pdfminer.six, pdfplumber\n",
            "Successfully installed pdfminer.six-20250506 pdfplumber-0.11.7 pypdfium2-4.30.0\n"
          ]
        }
      ]
    }
  ]
}